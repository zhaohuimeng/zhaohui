{
 "cells": [
  {
   "cell_type": "code",
   "execution_count": 1,
   "metadata": {},
   "outputs": [
    {
     "name": "stdout",
     "output_type": "stream",
     "text": [
      "Success: total 4050 words\n"
     ]
    }
   ],
   "source": [
    "# !/usr/bin/env python\n",
    "# -*- coding: utf-8 -*-\n",
    "\n",
    "import sys\n",
    "\n",
    "\n",
    "def main():\n",
    "    word_set = set([])\n",
    "    \n",
    "    with open(\"data_train_proc\") as f1:\n",
    "        for line in f1:\n",
    "            line = line.strip('\\n').split('\\t')\n",
    "            if len(line) != 2:\n",
    "                sys.stderr.write(\"illegal line\")\n",
    "                continue\n",
    "            \n",
    "            try:\n",
    "                word_line = line[0].decode('utf-8')\n",
    "            except:\n",
    "                sys.stderr.write(\"decode error\")\n",
    "                continue\n",
    "                \n",
    "            for word in word_line:\n",
    "                if word not in word_set:\n",
    "                    word_set.add(word)\n",
    "    \n",
    "    cnt = 0\n",
    "    with open(\"word_dict\", \"w\") as fout:\n",
    "        for word in word_set:\n",
    "            cnt += 1\n",
    "            print >> fout, \"%d\\t%s\" % (cnt, word.encode('utf-8'))\n",
    "            \n",
    "    print \"Success: total %d words\" % cnt\n",
    "            \n",
    "    \n",
    "if __name__ == \"__main__\":\n",
    "    main()"
   ]
  },
  {
   "cell_type": "code",
   "execution_count": null,
   "metadata": {
    "collapsed": true
   },
   "outputs": [],
   "source": []
  }
 ],
 "metadata": {
  "kernelspec": {
   "display_name": "Python 2",
   "language": "python",
   "name": "python2"
  },
  "language_info": {
   "codemirror_mode": {
    "name": "ipython",
    "version": 2
   },
   "file_extension": ".py",
   "mimetype": "text/x-python",
   "name": "python",
   "nbconvert_exporter": "python",
   "pygments_lexer": "ipython2",
   "version": "2.7.14"
  }
 },
 "nbformat": 4,
 "nbformat_minor": 2
}
